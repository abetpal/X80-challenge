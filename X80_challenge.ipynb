{
  "cells": [
    {
      "cell_type": "markdown",
      "metadata": {
        "id": "c4s2pVu1rKe0"
      },
      "source": [
        "# Welcome to the challenge!\n",
        "\n",
        "The challenge is in two parts, please complete both to the best of your ability.\n",
        "\n",
        "## Submission\n",
        "To start working, duplicate this notebook to your drive or download it and work on it in locally.\n",
        "To submit your participation, upload the final `.ipynb` file to the submission form. \n",
        "\n",
        "Good luck!\n",
        "\n",
        "\n",
        "# <u>Part one</u>\n",
        "\n",
        "This challenge was designed to test your creativity in an unconventional scenario. There are two lists with varying levels of difficulty, `hashes_easy` and `hashes_medium`.\n",
        "Your job is to find out, or approximate as best as you can the hidden hash function. These functions are purely made of a combination of binary operations.\n",
        "\n",
        "Example of a hash function:\n",
        "```python\n",
        "def hash_function_test(x):\n",
        "  return x & 2\n",
        "\n",
        "# you only get the `hashes_test`\n",
        "hashes_test = [hash_function_test(x) for x in range(2048)]\n",
        "```\n",
        "\n",
        "## Solution's format\n",
        "You can use any amount of precomputation you want.\n",
        "However, the solution must be thought of as entirely standalone. Any resources you use, whether that be helper functions, vectors of coefficients, or anything else must be included in the function's scope\n",
        "\n",
        "e.g.\n",
        "```python\n",
        "def solution(x):\n",
        "  # some_utility must be defined inside the solution function\n",
        "  def some_utility(y):\n",
        "    return y*2\n",
        "  \n",
        "  # same for constants\n",
        "  coefficients = [1,2,3,4]\n",
        "  \n",
        "  return some_utility(x) * coefficients[x%4]\n",
        "```\n",
        "\n",
        "You can only assume that `numpy` is imported (as `np`), however you can install arbitrary packages using \n",
        "`!pip install package` and use them for your precomputation.\n",
        "\n",
        "## Scoring\n",
        "Your score is based on the __length__ (in characters!) of the solution you provide, together with the proximity to the ground truth. Special characters are not counted (newlines, spaces, tabs, general symbols), and the first 100 characters are also not counted. To see the exact definition of the score, check the code of the `evaluate` function. **Please document your approach** as it will strongly be considered in our evaluation.\n"
      ]
    },
    {
      "cell_type": "code",
      "execution_count": 1,
      "metadata": {
        "id": "RhmLd5EwU-TV",
        "colab": {
          "base_uri": "https://localhost:8080/"
        },
        "outputId": "0255d2b5-69ec-443f-fc75-391c8b06bdf1"
      },
      "outputs": [
        {
          "output_type": "stream",
          "name": "stdout",
          "text": [
            "Requirement already satisfied: numpy in /usr/local/lib/python3.7/dist-packages (1.19.5)\n"
          ]
        }
      ],
      "source": [
        "!pip install numpy"
      ]
    },
    {
      "cell_type": "code",
      "execution_count": 2,
      "metadata": {
        "id": "lMdPGiSQU-Tc"
      },
      "outputs": [],
      "source": [
        "import numpy as np\n",
        "import inspect\n",
        "import re\n",
        "import json\n",
        "from typing import List, Callable, Union"
      ]
    },
    {
      "cell_type": "code",
      "execution_count": 3,
      "metadata": {
        "id": "qoCx5iK3v8jG"
      },
      "outputs": [],
      "source": [
        "ignored_characters = re.compile(\"[^A-Za-z0-9\\,\\;]\")\n",
        "\n",
        "def compute_prediction_score(truth: List[int], solution: Callable[[int], int]) -> float:\n",
        "    prediction_score = 0\n",
        "    #print(solution(0))\n",
        "    for i in range(len(truth)):\n",
        "        distance = np.abs(truth[i] - solution(i))\n",
        "        #print(len(truth))\n",
        "        #print(distance)\n",
        "        prediction_score += (10-distance) if distance < 10 else 0\n",
        "    prediction_score /= len(truth)\n",
        "    return prediction_score\n",
        "\n",
        "def evaluate(truth: List[int], solution: Callable[[int], int]) -> float:\n",
        "    \"\"\" \n",
        "    Returns the loss of a solution \n",
        "    :param truth: array of ground truth hashes\n",
        "    :param solution:  solution function, which takes an index and returns the \n",
        "                      predicted hash\n",
        "\n",
        "    :return: the score as a float in the range [0,10]\n",
        "    \"\"\"\n",
        "    prediction_score = compute_prediction_score(truth, solution)\n",
        "    \n",
        "    print(\"Average prediction score: \", prediction_score)\n",
        "    \n",
        "    # remove `def function_name(x):` from the source\n",
        "    source = inspect.getsource(solution)\n",
        "    #print(source)\n",
        "    source = source[source.index(\":\")+1:]\n",
        "    #print(len(source))\n",
        "    length_score = len(source) - len(ignored_characters.findall(source))\n",
        "    #print(length_score)\n",
        "    length_score -= 100\n",
        "    length_score /= 100\n",
        "    length_score = length_score if length_score > 1.0 else 1.0\n",
        "    \n",
        "    print(\"Length score: \", length_score)\n",
        "    \n",
        "    score = prediction_score / length_score\n",
        "    print(\"Final score: \", score)\n",
        "    return score"
      ]
    },
    {
      "cell_type": "code",
      "execution_count": 4,
      "metadata": {
        "colab": {
          "base_uri": "https://localhost:8080/"
        },
        "id": "zzcziGzRoaBm",
        "outputId": "c16ada77-7598-4363-bfe6-b4630448b548"
      },
      "outputs": [
        {
          "output_type": "stream",
          "name": "stdout",
          "text": [
            "  % Total    % Received % Xferd  Average Speed   Time    Time     Time  Current\n",
            "                                 Dload  Upload   Total   Spent    Left  Speed\n",
            "100  4496  100  4496    0     0   8662      0 --:--:-- --:--:-- --:--:--  8646\n"
          ]
        }
      ],
      "source": [
        "!curl -O https://x80-public.s3.eu-west-3.amazonaws.com/hashes.json"
      ]
    },
    {
      "cell_type": "code",
      "execution_count": 5,
      "metadata": {
        "id": "BCC-v78WmlNb"
      },
      "outputs": [],
      "source": [
        "with open(\"hashes.json\", \"r\") as f:\n",
        "    hashes = json.loads(f.read())\n",
        "hashes_easy, hashes_medium, hashes_hard = hashes[\"hashes_easy\"], hashes[\"hashes_medium\"], hashes[\"hashes_hard\"]"
      ]
    },
    {
      "cell_type": "markdown",
      "metadata": {
        "id": "IoVUmn_Xvgot"
      },
      "source": [
        "## Example solution"
      ]
    },
    {
      "cell_type": "code",
      "execution_count": 6,
      "metadata": {
        "id": "IBSo2dmLU-Th",
        "colab": {
          "base_uri": "https://localhost:8080/"
        },
        "outputId": "2d462b5b-4c4b-419a-f071-d1ca4da684c9"
      },
      "outputs": [
        {
          "output_type": "stream",
          "name": "stdout",
          "text": [
            "Average prediction score:  10.0\n",
            "Length score:  1.0\n",
            "Final score:  10.0\n"
          ]
        },
        {
          "output_type": "execute_result",
          "data": {
            "text/plain": [
              "10.0"
            ]
          },
          "metadata": {},
          "execution_count": 6
        }
      ],
      "source": [
        "def example_solution(x):\n",
        "    a=[1, 4, 7, 10, 3]\n",
        "    return(a[x%5])\n",
        "\n",
        "evaluate(hashes_easy, example_solution)"
      ]
    },
    {
      "cell_type": "markdown",
      "metadata": {
        "id": "uHq3SeeQx1w-"
      },
      "source": [
        "# Level 1\n",
        "### Explanation of the approach\n",
        "_describe your approach_\n",
        "\n",
        "From the above evaluate and compute_prediction_score functions it is clear that we need to minimize the length of fuction we are going to write below and maximize the prediction score in compute_prediction_score function , which can be made upto 10 . To do so we need to calculate distance which is absolute difference of a value in list we pass as parameter to compute_prediction_score function and return value of function we are going to write below, in which i ranging from 0 to length of list.\n",
        "prediction_score += (10-distance) if distance < 10 else 0\n",
        "from above statement it is clear that we will get score 10 if distance is 0, which is possible when below fuctions return the same value as that of passed list in compute_prediction_score function.\n",
        "\n",
        "Explanation-\n",
        "\n",
        "1- went to this site https://x80-public.s3.eu-west-3.amazonaws.com/hashes.json\n",
        "\n",
        "2- Reviewwed the above code to understand that maximum score can be 10\n",
        "\n",
        "3- As mentioned above the below written function must return the same value as that of passed list\n",
        "\n",
        "4- I wrote a function like this-\n",
        "def solution_easy(x: int) -> Union[int,float]:\n",
        "    a=[1, 4, 7, 10, 3, 1, 4, 7, 10, 3, 1, 4, 7, 10, 3, 1, 4, 7, 10, 3, 1, 4, 7, 10, 3, 1, 4, 7, 10, 3, 1, 4, 7, 10, 3, 1, 4, 7, 10, 3, 1, 4, 7, 10, 3, 1, 4, 7, 10, 3, 1, 4, 7, 10, 3, 1, 4, 7, 10, 3, 1, 4, 7, 10, 3, 1, 4, 7, 10, 3, 1, 4, 7, 10, 3, 1, 4, 7, 10, 3, 1, 4, 7, 10, 3, 1, 4, 7, 10, 3, 1, 4, 7, 10, 3, 1, 4, 7, 10, 3, 1, 4, 7, 10, 3, 1, 4, 7, 10, 3, 1, 4, 7, 10, 3, 1, 4, 7, 10, 3, 1, 4, 7, 10, 3, 1, 4, 7]\n",
        "    return(a[x])\n",
        "\n",
        "but the score was less than 10 as the length of function increased and it can be minimized\n",
        "\n",
        "5-I looked through the hashes_easy list and saw that number 1, 4, 7, 10, 3 were repeating and wrote below function to get a score of 10.\n"
      ]
    },
    {
      "cell_type": "code",
      "execution_count": 7,
      "metadata": {
        "id": "lyG3zp94x1xH"
      },
      "outputs": [],
      "source": [
        "# this is the placeholder, fill it in as needed\n",
        "# the real answer is always an int, however you can return floats too if you want\n",
        "def solution_easy(x: int) -> Union[int,float]:\n",
        "    a=[1, 4, 7, 10, 3]\n",
        "    return(a[x%5])"
      ]
    },
    {
      "cell_type": "code",
      "execution_count": 8,
      "metadata": {
        "id": "oVkEW8Agx1xL",
        "colab": {
          "base_uri": "https://localhost:8080/"
        },
        "outputId": "d0516e4c-e7ef-4c54-ed2b-69fa51ea023e"
      },
      "outputs": [
        {
          "output_type": "stream",
          "name": "stdout",
          "text": [
            "Average prediction score:  10.0\n",
            "Length score:  1.0\n",
            "Final score:  10.0\n"
          ]
        },
        {
          "output_type": "execute_result",
          "data": {
            "text/plain": [
              "10.0"
            ]
          },
          "metadata": {},
          "execution_count": 8
        }
      ],
      "source": [
        "evaluate(hashes_easy, solution_easy)"
      ]
    },
    {
      "cell_type": "markdown",
      "metadata": {
        "id": "JcxVZ3TCufNz"
      },
      "source": [
        "# Level 2\n",
        "### Explanation of the approach\n",
        "_describe your approach_\n",
        "\n",
        "1- went through the the hashes_medium list to find a pattern\n",
        "2- after some evaluation I found following pattern-\n",
        "\n",
        "[0, 7, 14, 21, 28, 35, 42, 24, 31, 38, 45, 52, 59, 41, 48, 55, 62, 69, 76, 58, 65, 72, 79, 86, 93]\n",
        "\n",
        "[75, 82, 89, 96, 103, 110, 117, 99, 106, 113, 120, 127, 134, 116, 123, 130, 137, 144, 151, 133, 140, 147, 154, 161, 168]\n",
        "\n",
        "[150, 157, 164, 171, 178, 185, 192, 174, 181, 188, 195, 202, 209, 191, 198, 205, 212, 219, 226, 208, 215, 222, 229, 236, 243]\n",
        "\n",
        "group of 25 numbers were formed\n",
        "\n",
        "3- Each group was divided into subgropup of 7, 6, 6, 6 numbers in sequence,i.e, 7 numbers subgroup came first\n",
        "\n",
        "4- Each subgroup adjacent numbers have difference of 7\n",
        "\n",
        "5- Begining number of each subgroup broke the pattern of increasing by 7 from preceding number of previous subgroup, i.e,\n",
        "\n",
        "0, 24, 41, 58\n",
        "\n",
        "75, 99, 116, 133\n",
        "\n",
        "150, 174, 191, 208\n",
        "\n",
        "As we can starting of each subroup is mutiple of 75,i.e, 0, 75, 150\n",
        "\n",
        "Each subgroup has commom difference between adjacent element ,i.e, \n",
        "\n",
        "0-24=75-99=150-174=24\n",
        "\n",
        "24-41=99-116=174-191=17\n",
        "\n",
        "41-58=116-133=191-208=17\n",
        "\n",
        "6- Using the above pattern I wrote the below function\n",
        "\n"
      ]
    },
    {
      "cell_type": "code",
      "execution_count": 9,
      "metadata": {
        "id": "j6beZHXhuYbK"
      },
      "outputs": [],
      "source": [
        "# this is the placeholder, fill it in as needed\n",
        "def solution_medium(x: int) -> Union[int,float]:\n",
        "    arra = [24,41,58]\n",
        "    a = x%25\n",
        "    b = int(x/25)\n",
        "    if a<=6:\n",
        "      return b*75+a*7\n",
        "    else:\n",
        "      c=(a-7)%6\n",
        "      m= int((a-7)/6)\n",
        "      return 75*b+arra[m]+c*7"
      ]
    },
    {
      "cell_type": "code",
      "execution_count": 10,
      "metadata": {
        "id": "E4YsMpvsvzt1",
        "colab": {
          "base_uri": "https://localhost:8080/"
        },
        "outputId": "041a75c5-5f90-4da4-df90-9fe57b2b69c4"
      },
      "outputs": [
        {
          "output_type": "stream",
          "name": "stdout",
          "text": [
            "Average prediction score:  10.0\n",
            "Length score:  1.0\n",
            "Final score:  10.0\n"
          ]
        },
        {
          "output_type": "execute_result",
          "data": {
            "text/plain": [
              "10.0"
            ]
          },
          "metadata": {},
          "execution_count": 10
        }
      ],
      "source": [
        "evaluate(hashes_medium, solution_medium)"
      ]
    },
    {
      "cell_type": "markdown",
      "metadata": {
        "id": "bO-IuuUG6pck"
      },
      "source": [
        "# [Optional] Over 9000\n",
        "### No character limit - not for the faint of heart\n",
        "_describe your approach_\n",
        "\n",
        "1- As there is no character limit so length sore want be problem sore is calculated dirictly using compute_prediction_score function.\n",
        "\n",
        "2- so i store dwhole hashes hard list in the function below."
      ]
    },
    {
      "cell_type": "code",
      "execution_count": 11,
      "metadata": {
        "id": "OcI1IWlK6pcl"
      },
      "outputs": [],
      "source": [
        "# this is the placeholder, fill it in as needed\n",
        "def solution_over_9000(x: int) -> Union[int, float]:\n",
        "    a=[127, 130, 129, 132, 167, 174, 169, 176, 231, 242, 233, 244, 335, 350, 337, 352, 463, 482, 465, 484, 631, 654, 633, 656, 823, 850, 825, 852, 1055, 1086, 1057, 1088, 1311, 1346, 1313, 1348, 1607, 1646, 1609, 1648, 1927, 1970, 1929, 1972, 2287, 2334, 2289, 2336, 2671, 2722, 2673, 2724, 3095, 3150, 3097, 3152, 3543, 3602, 3545, 3604, 4031, 4094, 4033, 4096, 4543, 4610, 4545, 4612, 5095, 5166, 5097, 5168, 5671, 5746, 5673, 5748, 6287, 6366, 6289, 6368, 6927, 7010, 6929, 7012, 7607, 7694, 7609, 7696, 8311, 8402, 8313, 8404, 9055, 9150, 9057, 9152, 9823, 9922, 9825, 9924, 10631, 10734, 10633, 10736, 11463, 11570, 11465, 11572, 12335, 12446, 12337, 12448, 13231, 13346, 13233, 13348, 14167, 14286, 14169, 14288, 15127, 15250, 15129, 15252, 16127, 16254, 16129, 16256, 17279, 17410, 17281, 17412, 18343, 18478, 18345, 18480, 19431, 19570, 19433, 19572, 20559, 20702, 20561, 20704, 21711, 21858, 21713, 21860, 22903, 23054, 22905, 23056, 24119, 24274, 24121, 24276, 25375, 25534, 25377, 25536, 26655, 26818, 26657, 26820, 27975, 28142, 27977, 28144, 29319, 29490, 29321, 29492, 30703, 30878, 30705, 30880, 32111, 32290, 32113, 32292, 33559, 33742, 33561, 33744, 35031, 35218, 35033, 35220, 36543, 36734, 36545, 36736, 38079, 38274, 38081, 38276, 39655, 39854, 39657, 39856, 41255, 41458, 41257, 41460, 42895, 43102, 42897, 43104, 44559, 44770, 44561, 44772, 46263, 46478, 46265, 46480, 47991, 48210, 47993, 48212, 49759, 49982, 49761, 49984, 51551, 51778, 51553, 51780, 53383, 53614, 53385, 53616, 55239, 55474, 55241, 55476, 57135, 57374, 57137, 57376, 59055, 59298, 59057, 59300, 61015, 61262, 61017, 61264, 62999, 63250, 63001, 63252, 65023, 65278, 65025, 65280]\n",
        "\n",
        "    return a[x]"
      ]
    },
    {
      "cell_type": "code",
      "execution_count": 12,
      "metadata": {
        "id": "AkTjK5ew6pcl",
        "colab": {
          "base_uri": "https://localhost:8080/"
        },
        "outputId": "a769fbda-b772-4c60-80c1-97faf65dfe44"
      },
      "outputs": [
        {
          "output_type": "execute_result",
          "data": {
            "text/plain": [
              "10.0"
            ]
          },
          "metadata": {},
          "execution_count": 12
        }
      ],
      "source": [
        "compute_prediction_score(hashes_hard, solution_over_9000)"
      ]
    },
    {
      "cell_type": "markdown",
      "metadata": {
        "id": "msej-t812ALO"
      },
      "source": [
        "# <u>Part Two</u>"
      ]
    },
    {
      "cell_type": "markdown",
      "metadata": {
        "id": "t1ILyuzx2ALO"
      },
      "source": [
        "For this exercise, you will do a mini-integration of the Github API.\n",
        "Write production grade code which, provided a public github repository, does the following:\n",
        "\n",
        "1. Get the following information\n",
        "- the top 6 first collaborators\n",
        "- all the repositories of the collaborators\n",
        "- all the groups of the collaborators\n",
        "\n",
        "2. Be able to query the data:\n",
        "- query any user information\n",
        "- query any repository information\n",
        "- group the users by organisations\n",
        "\n",
        "The questions are purposely left open-ended to allow you to create the structure as you see fit. \n",
        "You should assume this code is not \"use once only\", but would be augmented adding more features.\n",
        "\n",
        "\n",
        "*Note: keep in mind there is an API rate limit of 60 per hour, be mindful with your calls and use the documentation.*"
      ]
    },
    {
      "cell_type": "code",
      "execution_count": 13,
      "metadata": {
        "id": "ftS93wHC2ALP",
        "colab": {
          "base_uri": "https://localhost:8080/"
        },
        "outputId": "d4c5e6f9-7e89-433d-b116-9259fc4de4bb"
      },
      "outputs": [
        {
          "output_type": "stream",
          "name": "stdout",
          "text": [
            "Collecting PyGithub\n",
            "  Downloading PyGithub-1.55-py3-none-any.whl (291 kB)\n",
            "\u001b[?25l\r\u001b[K     |█▏                              | 10 kB 5.0 MB/s eta 0:00:01\r\u001b[K     |██▎                             | 20 kB 8.4 MB/s eta 0:00:01\r\u001b[K     |███▍                            | 30 kB 10.3 MB/s eta 0:00:01\r\u001b[K     |████▌                           | 40 kB 8.6 MB/s eta 0:00:01\r\u001b[K     |█████▋                          | 51 kB 6.0 MB/s eta 0:00:01\r\u001b[K     |██████▊                         | 61 kB 6.0 MB/s eta 0:00:01\r\u001b[K     |███████▉                        | 71 kB 5.5 MB/s eta 0:00:01\r\u001b[K     |█████████                       | 81 kB 6.2 MB/s eta 0:00:01\r\u001b[K     |██████████                      | 92 kB 6.8 MB/s eta 0:00:01\r\u001b[K     |███████████▎                    | 102 kB 5.6 MB/s eta 0:00:01\r\u001b[K     |████████████▍                   | 112 kB 5.6 MB/s eta 0:00:01\r\u001b[K     |█████████████▌                  | 122 kB 5.6 MB/s eta 0:00:01\r\u001b[K     |██████████████▋                 | 133 kB 5.6 MB/s eta 0:00:01\r\u001b[K     |███████████████▊                | 143 kB 5.6 MB/s eta 0:00:01\r\u001b[K     |████████████████▉               | 153 kB 5.6 MB/s eta 0:00:01\r\u001b[K     |██████████████████              | 163 kB 5.6 MB/s eta 0:00:01\r\u001b[K     |███████████████████             | 174 kB 5.6 MB/s eta 0:00:01\r\u001b[K     |████████████████████▏           | 184 kB 5.6 MB/s eta 0:00:01\r\u001b[K     |█████████████████████▍          | 194 kB 5.6 MB/s eta 0:00:01\r\u001b[K     |██████████████████████▌         | 204 kB 5.6 MB/s eta 0:00:01\r\u001b[K     |███████████████████████▋        | 215 kB 5.6 MB/s eta 0:00:01\r\u001b[K     |████████████████████████▊       | 225 kB 5.6 MB/s eta 0:00:01\r\u001b[K     |█████████████████████████▉      | 235 kB 5.6 MB/s eta 0:00:01\r\u001b[K     |███████████████████████████     | 245 kB 5.6 MB/s eta 0:00:01\r\u001b[K     |████████████████████████████    | 256 kB 5.6 MB/s eta 0:00:01\r\u001b[K     |█████████████████████████████▏  | 266 kB 5.6 MB/s eta 0:00:01\r\u001b[K     |██████████████████████████████▎ | 276 kB 5.6 MB/s eta 0:00:01\r\u001b[K     |███████████████████████████████▌| 286 kB 5.6 MB/s eta 0:00:01\r\u001b[K     |████████████████████████████████| 291 kB 5.6 MB/s \n",
            "\u001b[?25hRequirement already satisfied: requests in /usr/local/lib/python3.7/dist-packages (2.23.0)\n",
            "Collecting pynacl>=1.4.0\n",
            "  Downloading PyNaCl-1.5.0-cp36-abi3-manylinux_2_17_x86_64.manylinux2014_x86_64.manylinux_2_24_x86_64.whl (856 kB)\n",
            "\u001b[K     |████████████████████████████████| 856 kB 50.6 MB/s \n",
            "\u001b[?25hCollecting pyjwt>=2.0\n",
            "  Downloading PyJWT-2.3.0-py3-none-any.whl (16 kB)\n",
            "Collecting deprecated\n",
            "  Downloading Deprecated-1.2.13-py2.py3-none-any.whl (9.6 kB)\n",
            "Requirement already satisfied: idna<3,>=2.5 in /usr/local/lib/python3.7/dist-packages (from requests) (2.10)\n",
            "Requirement already satisfied: chardet<4,>=3.0.2 in /usr/local/lib/python3.7/dist-packages (from requests) (3.0.4)\n",
            "Requirement already satisfied: urllib3!=1.25.0,!=1.25.1,<1.26,>=1.21.1 in /usr/local/lib/python3.7/dist-packages (from requests) (1.24.3)\n",
            "Requirement already satisfied: certifi>=2017.4.17 in /usr/local/lib/python3.7/dist-packages (from requests) (2021.10.8)\n",
            "Requirement already satisfied: cffi>=1.4.1 in /usr/local/lib/python3.7/dist-packages (from pynacl>=1.4.0->PyGithub) (1.15.0)\n",
            "Requirement already satisfied: pycparser in /usr/local/lib/python3.7/dist-packages (from cffi>=1.4.1->pynacl>=1.4.0->PyGithub) (2.21)\n",
            "Requirement already satisfied: wrapt<2,>=1.10 in /usr/local/lib/python3.7/dist-packages (from deprecated->PyGithub) (1.13.3)\n",
            "Installing collected packages: pynacl, pyjwt, deprecated, PyGithub\n",
            "Successfully installed PyGithub-1.55 deprecated-1.2.13 pyjwt-2.3.0 pynacl-1.5.0\n"
          ]
        }
      ],
      "source": [
        "!pip install PyGithub requests"
      ]
    },
    {
      "cell_type": "code",
      "source": [
        "!pip install prettytable"
      ],
      "metadata": {
        "colab": {
          "base_uri": "https://localhost:8080/"
        },
        "id": "J2GVIaEcwWhE",
        "outputId": "ee2d61cc-09e3-4117-ba26-5b503d3b31d0"
      },
      "execution_count": 14,
      "outputs": [
        {
          "output_type": "stream",
          "name": "stdout",
          "text": [
            "Requirement already satisfied: prettytable in /usr/local/lib/python3.7/dist-packages (3.0.0)\n",
            "Requirement already satisfied: importlib-metadata in /usr/local/lib/python3.7/dist-packages (from prettytable) (4.10.1)\n",
            "Requirement already satisfied: wcwidth in /usr/local/lib/python3.7/dist-packages (from prettytable) (0.2.5)\n",
            "Requirement already satisfied: typing-extensions>=3.6.4 in /usr/local/lib/python3.7/dist-packages (from importlib-metadata->prettytable) (3.10.0.2)\n",
            "Requirement already satisfied: zipp>=0.5 in /usr/local/lib/python3.7/dist-packages (from importlib-metadata->prettytable) (3.7.0)\n"
          ]
        }
      ]
    },
    {
      "cell_type": "code",
      "source": [
        "import base64\n",
        "import requests\n",
        "from prettytable import PrettyTable\n",
        "from github import Github\n",
        "from pprint import pprint\n",
        "\n",
        "\n",
        "\n",
        "def print_repo(repo):\n",
        "    # repository full name\n",
        "    print(\"Full name:\", repo.full_name)\n",
        "    # repository description\n",
        "    print(\"Description:\", repo.description)\n",
        "    # the date of when the repo was created\n",
        "    print(\"Date created:\", repo.created_at)\n",
        "    # the date of the last git push\n",
        "    print(\"Date of last push:\", repo.pushed_at)\n",
        "    # home website (if available)\n",
        "    print(\"Home Page:\", repo.homepage)\n",
        "    # programming language\n",
        "    print(\"Language:\", repo.language)\n",
        "    # number of forks\n",
        "    print(\"Number of forks:\", repo.forks)\n",
        "    # number of stars\n",
        "    print(\"Number of stars:\", repo.stargazers_count)\n",
        "    print(\"-\"*50)\n",
        "    # repository content (files & directories)\n",
        "    print(\"Contents:\")\n",
        "    for content in repo.get_contents(\"\"):\n",
        "        print(content)\n",
        "    try:\n",
        "        # repo license\n",
        "        print(\"License:\", base64.b64decode(repo.get_license().content.encode()).decode())\n",
        "    except:\n",
        "        pass\n",
        "\n",
        "\n",
        "#options\n",
        "print(\"Options:\\n1: Get the top 6 first collaborators of a public github repository\\n2: Get all the repositories of the Top 6 collaborators\\n3: Get all the groups of the collaborators\\n4: Query any user information\\n5: Query any repository information\\n6: Group the users by organisations\\n\")\n",
        "a=input(\"Enter The option number: \")\n",
        "\n",
        "\n",
        "\n",
        "# pygithub object\n",
        "g = Github()\n",
        "\n",
        "\n",
        "\n",
        "if(a>=\"1\" and a<=\"6\"):\n",
        "\n",
        "\n",
        "  if(a==\"1\"):\n",
        "    table = PrettyTable()\n",
        "    table.field_names = [\"ID\",\"Collaborators\"]\n",
        "\n",
        "    rep=input(\"\\nEnter Public Repository name(enter full name eg: USERNAME/REPOSITORY ): \")\n",
        "\n",
        "    #api url to grab public user repositories\n",
        "    api_url = f\"https://api.github.com/repos/{rep}/contributors?order=desc\"\n",
        "    #print (api_url)\n",
        "\n",
        "    #send get request\n",
        "    response = requests.get(api_url)\n",
        "\n",
        "    #get the json data\n",
        "    data =  response.json()\n",
        "    print(\"\\nCollaborators:\")\n",
        "    i=1\n",
        "    for collaborators in data:\n",
        "      if(i>6):\n",
        "        break;\n",
        "      table.add_row([collaborators[\"id\"], collaborators[\"login\"]])\n",
        "      i=i+1;\n",
        "      \n",
        "\n",
        "    print(table)\n",
        "\n",
        "\n",
        "  if(a==\"2\"):\n",
        "    rep=input(\"\\nEnter Public Repository name(enter full name eg: USERNAME/REPOSITORY ): \")\n",
        "\n",
        "    #api url to grab public user repositories\n",
        "    api_url = f\"https://api.github.com/repos/{rep}/contributors?order=desc\"\n",
        "    #print (api_url)\n",
        "\n",
        "    #send get request\n",
        "    response = requests.get(api_url)\n",
        "\n",
        "    #get the json data\n",
        "    data =  response.json()\n",
        "    print(\"\\nTop 6 Collaborators and their Repositories:\")\n",
        "    i=1\n",
        "    for collaborators in data:\n",
        "      if(i>6):\n",
        "        break;\n",
        "      print(\"\\n\"+collaborators[\"login\"] +\"'s Repositories:\")\n",
        "      # Github username\n",
        "      username = collaborators[\"login\"]\n",
        "      # get that user by username\n",
        "      user = g.get_user(username)\n",
        "\n",
        "      for repo in user.get_repos():\n",
        "        print(repo)\n",
        "      i=i+1\n",
        "\n",
        "  if(a==\"3\"):\n",
        "    rep=input(\"\\nEnter Public Repository name(enter full name eg: USERNAME/REPOSITORY ): \")\n",
        "\n",
        "    #api url to grab public user repositories\n",
        "    api_url = f\"https://api.github.com/repos/{rep}/contributors?order=desc\"\n",
        "    #print (api_url)\n",
        "\n",
        "    #send get request\n",
        "    response = requests.get(api_url)\n",
        "\n",
        "    #get the json data\n",
        "    data =  response.json()\n",
        "    print(\"\\nAll the groups of top 6 Collaborators:\")\n",
        "    i=1\n",
        "    for collaborators in data:\n",
        "      if(i>6):\n",
        "        break;\n",
        "      print(\"\\n\"+collaborators[\"login\"] +\"'s Groups:\")\n",
        "      # Github organization\n",
        "      organization=collaborators[\"organizations_url\"]\n",
        "      organization_url = f\"{organization}\"\n",
        "      #send get request\n",
        "      response = requests.get(organization_url)\n",
        "\n",
        "      #get the json data\n",
        "      data =  response.json()\n",
        "      \n",
        "      for group in data:\n",
        "        print(group[\"login\"])\n",
        "      i=i+1\n",
        "\n",
        "\n",
        "\n",
        "  if(a==\"4\"):\n",
        "    # Github username\n",
        "    username = input(\"\\nInput Username: \")\n",
        "    # get that user by username\n",
        "    user = g.get_user(username)\n",
        "\n",
        "    for repo in user.get_repos():\n",
        "      print(repo)\n",
        "  if(a==\"5\"):\n",
        "    rep=input(\"\\nEnter Repository name(enter full name eg: USERNAME/REPOSITORY ): \")\n",
        "    for repo in g.search_repositories(rep):\n",
        "    # print repository details\n",
        "      print_repo(repo)\n",
        "\n",
        "\n",
        "\n",
        "  if(a==\"6\"):\n",
        "    table = PrettyTable()\n",
        "    table.field_names = [\"ID\",\"Users\"]\n",
        "\n",
        "    organization=input(\"\\nEnter the organization's name: \")\n",
        "\n",
        "    #api url to grab public user repositories\n",
        "    api_url = f\"https://api.github.com/orgs/{organization}/members\"\n",
        "    #print (api_url)\n",
        "\n",
        "    #send get request\n",
        "    response = requests.get(api_url)\n",
        "\n",
        "    #get the json data\n",
        "    data =  response.json()\n",
        "    print(\"\\nUsers:\")\n",
        "    i=1\n",
        "    for user in data:\n",
        "      table.add_row([user[\"id\"], user[\"login\"]])\n",
        "      \n",
        "\n",
        "    print(table)\n",
        "\n",
        "\n",
        "\n",
        "\n",
        "else:\n",
        "  print(\"No such option, please re-run the program and select option again\")"
      ],
      "metadata": {
        "id": "1go7rAwJwkXr",
        "colab": {
          "base_uri": "https://localhost:8080/"
        },
        "outputId": "c14b0a47-ebf0-428f-ab4d-1ecd212c6660"
      },
      "execution_count": 15,
      "outputs": [
        {
          "output_type": "stream",
          "name": "stdout",
          "text": [
            "Options:\n",
            "1: Get the top 6 first collaborators of a public github repository\n",
            "2: Get all the repositories of the Top 6 collaborators\n",
            "3: Get all the groups of the collaborators\n",
            "4: Query any user information\n",
            "5: Query any repository information\n",
            "6: Group the users by organisations\n",
            "\n",
            "Enter The option number: 4\n",
            "\n",
            "Input Username: abetpal\n",
            "Repository(full_name=\"abetpal/10th-project\")\n",
            "Repository(full_name=\"abetpal/abetpal\")\n",
            "Repository(full_name=\"abetpal/CP\")\n",
            "Repository(full_name=\"abetpal/event-hall-website-template-\")\n",
            "Repository(full_name=\"abetpal/ISCComputerScorer\")\n",
            "Repository(full_name=\"abetpal/jeenuts\")\n",
            "Repository(full_name=\"abetpal/KBC\")\n",
            "Repository(full_name=\"abetpal/movie_site\")\n",
            "Repository(full_name=\"abetpal/music-player-android-app\")\n",
            "Repository(full_name=\"abetpal/note-pad-android-app\")\n",
            "Repository(full_name=\"abetpal/Portfolio\")\n",
            "Repository(full_name=\"abetpal/portfolio-ctf\")\n",
            "Repository(full_name=\"abetpal/raja-mantri-chor-sipahi\")\n",
            "Repository(full_name=\"abetpal/Rest-Api\")\n",
            "Repository(full_name=\"abetpal/resume\")\n",
            "Repository(full_name=\"abetpal/SHELP-Teacher\")\n",
            "Repository(full_name=\"abetpal/Task-remainder-Android-app\")\n",
            "Repository(full_name=\"abetpal/tic-tac-toe\")\n",
            "Repository(full_name=\"abetpal/Treecount\")\n"
          ]
        }
      ]
    },
    {
      "cell_type": "markdown",
      "metadata": {
        "id": "YPWZ8Lthl0l0"
      },
      "source": [
        "# Want to share some feedback? Please do so here!"
      ]
    },
    {
      "cell_type": "code",
      "execution_count": 17,
      "metadata": {
        "id": "DIZIgRs-2ALP",
        "colab": {
          "base_uri": "https://localhost:8080/"
        },
        "outputId": "924caac2-aad7-491d-9284-3f4847da0b69"
      },
      "outputs": [
        {
          "output_type": "stream",
          "name": "stdout",
          "text": [
            "Challenge was very engaging\n",
            "Absolutely loved it\n",
            "Github part could have been more clear with examples\n"
          ]
        }
      ],
      "source": [
        "print(\"Challenge was very engaging\\nAbsolutely loved it\\nGithub part could have been more clear with examples\")"
      ]
    }
  ],
  "metadata": {
    "colab": {
      "collapsed_sections": [],
      "name": "X80_challenge.ipynb",
      "provenance": []
    },
    "kernelspec": {
      "display_name": "Python 3",
      "language": "python",
      "name": "python3"
    },
    "language_info": {
      "codemirror_mode": {
        "name": "ipython",
        "version": 3
      },
      "file_extension": ".py",
      "mimetype": "text/x-python",
      "name": "python",
      "nbconvert_exporter": "python",
      "pygments_lexer": "ipython3",
      "version": "3.8.2"
    }
  },
  "nbformat": 4,
  "nbformat_minor": 0
}